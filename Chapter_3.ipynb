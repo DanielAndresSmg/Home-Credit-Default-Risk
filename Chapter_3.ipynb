{
 "cells": [
  {
   "cell_type": "markdown",
   "metadata": {
    "id": "FIVjKKCIyCGz"
   },
   "source": [
    "# Modeling - Before Hyperparameter"
   ]
  },
  {
   "cell_type": "code",
   "execution_count": 1,
   "metadata": {
    "id": "ULTqKTo3yCG4"
   },
   "outputs": [],
   "source": [
    "# numpy and pandas for data manipulation\n",
    "import numpy as np\n",
    "import pandas as pd \n",
    "\n",
    "# sklearn preprocessing for dealing with categorical variables\n",
    "from sklearn.preprocessing import LabelEncoder\n",
    "\n",
    "# File system manangement\n",
    "import os\n",
    "\n",
    "# Suppress warnings \n",
    "import warnings\n",
    "warnings.filterwarnings('ignore')\n",
    "\n",
    "# matplotlib and seaborn for plotting\n",
    "import matplotlib.pyplot as plt\n",
    "import seaborn as sns\n",
    "import gc\n",
    "\n",
    "# Modeling \n",
    "from sklearn.model_selection import train_test_split\n",
    "import lightgbm as lgb\n",
    "from sklearn.svm import SVC\n",
    "from xgboost import XGBClassifier\n",
    "from sklearn.naive_bayes import GaussianNB\n",
    "from sklearn.tree import DecisionTreeClassifier\n",
    "from sklearn.neighbors import KNeighborsClassifier\n",
    "from sklearn.ensemble import RandomForestClassifier\n",
    "from sklearn.linear_model import LogisticRegression\n",
    "from sklearn.model_selection import KFold, StratifiedKFold\n",
    "from sklearn.metrics import confusion_matrix,accuracy_score,roc_curve,classification_report\n"
   ]
  },
  {
   "cell_type": "code",
   "execution_count": 2,
   "metadata": {},
   "outputs": [],
   "source": [
    "dataset = pd.read_csv('dataclear.csv')"
   ]
  },
  {
   "cell_type": "code",
   "execution_count": 3,
   "metadata": {},
   "outputs": [
    {
     "name": "stdout",
     "output_type": "stream",
     "text": [
      "X data shape:  (307507, 129)\n",
      "y data shape:  (307507,)\n"
     ]
    }
   ],
   "source": [
    "# Memisahkan data menjadi fitur (X) dan label (y)\n",
    "X = dataset.drop(columns=['TARGET'], axis = 1)\n",
    "y = dataset['TARGET']\n",
    "\n",
    "\n",
    "print('X data shape: ', X.shape)\n",
    "print('y data shape: ', y.shape)"
   ]
  },
  {
   "cell_type": "code",
   "execution_count": 4,
   "metadata": {
    "id": "d4J6IO5tyCG2"
   },
   "outputs": [
    {
     "data": {
      "text/plain": [
       "0    282682\n",
       "1     24825\n",
       "Name: TARGET, dtype: int64"
      ]
     },
     "execution_count": 4,
     "metadata": {},
     "output_type": "execute_result"
    }
   ],
   "source": [
    "dataset.TARGET.value_counts()"
   ]
  },
  {
   "cell_type": "markdown",
   "metadata": {
    "id": "UAAmcxTgouim"
   },
   "source": [
    "Jika dilihat label yang terdapat di dataset, kita menemukan data yang tidak seimbang (imbalance) ini. Hal ini akan sangat mempengaruhi akurasi pada saat pemodelan. Oleh karena itu dataset harus diseimbangkan 0 dan 1."
   ]
  },
  {
   "cell_type": "code",
   "execution_count": 5,
   "metadata": {
    "id": "9H0huWqyyCG4"
   },
   "outputs": [
    {
     "name": "stdout",
     "output_type": "stream",
     "text": [
      "X data shape after oversampling:  (565364, 129)\n",
      "y data shape after oversampling:  (565364,)\n"
     ]
    }
   ],
   "source": [
    "# Dataset di seimbangkan dengan cara RandomOverSampling minoruty\n",
    "from imblearn.over_sampling import RandomOverSampler\n",
    "\n",
    "ros = RandomOverSampler(random_state=42, sampling_strategy='minority')\n",
    "X, y = ros.fit_resample(X, y)\n",
    "print('X data shape after oversampling: ', X.shape)\n",
    "print('y data shape after oversampling: ', y.shape)"
   ]
  },
  {
   "cell_type": "code",
   "execution_count": 6,
   "metadata": {
    "id": "ZIwGJ0SZyCG4"
   },
   "outputs": [
    {
     "data": {
      "text/plain": [
       "1    282682\n",
       "0    282682\n",
       "Name: TARGET, dtype: int64"
      ]
     },
     "execution_count": 6,
     "metadata": {},
     "output_type": "execute_result"
    }
   ],
   "source": [
    "# Data suda seimbang\n",
    "y.value_counts()"
   ]
  },
  {
   "cell_type": "code",
   "execution_count": 7,
   "metadata": {
    "id": "HWnM-8l3yCG5"
   },
   "outputs": [
    {
     "data": {
      "text/plain": [
       "(307507, 130)"
      ]
     },
     "execution_count": 7,
     "metadata": {},
     "output_type": "execute_result"
    }
   ],
   "source": [
    "dataset.shape"
   ]
  },
  {
   "cell_type": "code",
   "execution_count": 8,
   "metadata": {
    "id": "YJI7eAH6yCG9"
   },
   "outputs": [
    {
     "name": "stdout",
     "output_type": "stream",
     "text": [
      "X_train data shape:  (452291, 129)\n",
      "y_train data shape:  (452291,)\n",
      "X_test data shape:  (113073, 129)\n",
      "y_test data shape:  (113073,)\n"
     ]
    }
   ],
   "source": [
    "# Membagi data menjadi data latih dan data uji\n",
    "X_train, X_test, y_train, y_test = train_test_split(X, y, test_size=0.2, random_state=42)\n",
    "\n",
    "# Mencetak bentuk data X_train, X_test, y_train, dan y_test\n",
    "print('X_train data shape: ', X_train.shape)\n",
    "print('y_train data shape: ', y_train.shape)\n",
    "print('X_test data shape: ', X_test.shape)\n",
    "print('y_test data shape: ', y_test.shape)"
   ]
  },
  {
   "cell_type": "markdown",
   "metadata": {
    "id": "g5SWSeCayCG9"
   },
   "source": [
    "## Logistic Regrestion"
   ]
  },
  {
   "cell_type": "code",
   "execution_count": 9,
   "metadata": {
    "colab": {
     "base_uri": "https://localhost:8080/"
    },
    "id": "zBXMtKjqyCG9",
    "outputId": "30c63295-6f9f-42be-ffdb-e3bedadd1820"
   },
   "outputs": [
    {
     "name": "stdout",
     "output_type": "stream",
     "text": [
      "confussion matrix\n",
      "[[34856 21493]\n",
      " [25408 31316]]\n",
      "\n",
      "\n",
      "Accuracy of Logistic Regression: 58.52148611958646 \n",
      "\n",
      "              precision    recall  f1-score   support\n",
      "\n",
      "           0       0.58      0.62      0.60     56349\n",
      "           1       0.59      0.55      0.57     56724\n",
      "\n",
      "    accuracy                           0.59    113073\n",
      "   macro avg       0.59      0.59      0.58    113073\n",
      "weighted avg       0.59      0.59      0.58    113073\n",
      "\n"
     ]
    }
   ],
   "source": [
    "m1 = 'Logistic Regression'\n",
    "lr = LogisticRegression()\n",
    "model = lr.fit(X_train, y_train)\n",
    "lr_predict = lr.predict(X_test)\n",
    "lr_conf_matrix = confusion_matrix(y_test, lr_predict)\n",
    "lr_acc_score = accuracy_score(y_test, lr_predict)\n",
    "print(\"confussion matrix\")\n",
    "print(lr_conf_matrix)\n",
    "print(\"\\n\")\n",
    "print(\"Accuracy of Logistic Regression:\",lr_acc_score*100,'\\n')\n",
    "print(classification_report(y_test,lr_predict))"
   ]
  },
  {
   "cell_type": "markdown",
   "metadata": {
    "id": "XOaQfWFOyCG-"
   },
   "source": [
    "## Decision Tree"
   ]
  },
  {
   "cell_type": "code",
   "execution_count": 11,
   "metadata": {
    "colab": {
     "base_uri": "https://localhost:8080/"
    },
    "id": "tLSoFgQFyCG-",
    "outputId": "b6a1e79a-cf0f-4e06-aa4e-5d7564e53880"
   },
   "outputs": [
    {
     "name": "stdout",
     "output_type": "stream",
     "text": [
      "confussion matrix\n",
      "[[36947 19402]\n",
      " [18062 38662]]\n",
      "\n",
      "\n",
      "Accuracy of DecisionTreeClassifier: 66.86742193096495 \n",
      "\n",
      "              precision    recall  f1-score   support\n",
      "\n",
      "           0       0.67      0.66      0.66     56349\n",
      "           1       0.67      0.68      0.67     56724\n",
      "\n",
      "    accuracy                           0.67    113073\n",
      "   macro avg       0.67      0.67      0.67    113073\n",
      "weighted avg       0.67      0.67      0.67    113073\n",
      "\n"
     ]
    }
   ],
   "source": [
    "m6 = 'DecisionTreeClassifier'\n",
    "dt = DecisionTreeClassifier(criterion = 'entropy',random_state=0,max_depth = 6)\n",
    "dt.fit(X_train, y_train)\n",
    "dt_predicted = dt.predict(X_test)\n",
    "dt_conf_matrix = confusion_matrix(y_test, dt_predicted)\n",
    "dt_acc_score = accuracy_score(y_test, dt_predicted)\n",
    "print(\"confussion matrix\")\n",
    "print(dt_conf_matrix)\n",
    "print(\"\\n\")\n",
    "print(\"Accuracy of DecisionTreeClassifier:\",dt_acc_score*100,'\\n')\n",
    "print(classification_report(y_test,dt_predicted))"
   ]
  },
  {
   "cell_type": "markdown",
   "metadata": {
    "id": "MGMiuwmtyCG-"
   },
   "source": [
    "## Naive Bayes"
   ]
  },
  {
   "cell_type": "code",
   "execution_count": 12,
   "metadata": {
    "colab": {
     "base_uri": "https://localhost:8080/"
    },
    "id": "A1a1_wBcyCG-",
    "outputId": "f2eae5c0-1a51-49e7-e927-eb9c339b6d40"
   },
   "outputs": [
    {
     "name": "stdout",
     "output_type": "stream",
     "text": [
      "confussion matrix\n",
      "[[37575 18774]\n",
      " [28340 28384]]\n",
      "\n",
      "\n",
      "Accuracy of Naive Bayes model: 58.33311223722728 \n",
      "\n",
      "              precision    recall  f1-score   support\n",
      "\n",
      "           0       0.57      0.67      0.61     56349\n",
      "           1       0.60      0.50      0.55     56724\n",
      "\n",
      "    accuracy                           0.58    113073\n",
      "   macro avg       0.59      0.58      0.58    113073\n",
      "weighted avg       0.59      0.58      0.58    113073\n",
      "\n"
     ]
    }
   ],
   "source": [
    "m2 = 'Naive Bayes'\n",
    "nb = GaussianNB()\n",
    "nb.fit(X_train,y_train)\n",
    "nbpred = nb.predict(X_test)\n",
    "nb_conf_matrix = confusion_matrix(y_test, nbpred)\n",
    "nb_acc_score = accuracy_score(y_test, nbpred)\n",
    "print(\"confussion matrix\")\n",
    "print(nb_conf_matrix)\n",
    "print(\"\\n\")\n",
    "print(\"Accuracy of Naive Bayes model:\",nb_acc_score*100,'\\n')\n",
    "print(classification_report(y_test,nbpred))"
   ]
  },
  {
   "cell_type": "markdown",
   "metadata": {
    "id": "dC5n3W7uyCG-"
   },
   "source": [
    "## Random Forest Classfier"
   ]
  },
  {
   "cell_type": "code",
   "execution_count": 13,
   "metadata": {
    "colab": {
     "base_uri": "https://localhost:8080/"
    },
    "id": "ONJEn42hyCG_",
    "outputId": "3ad0b6d0-e4de-47b6-a8ca-7035d919e4df"
   },
   "outputs": [
    {
     "name": "stdout",
     "output_type": "stream",
     "text": [
      "confussion matrix\n",
      "[[37668 18681]\n",
      " [17509 39215]]\n",
      "\n",
      "\n",
      "Accuracy of Random Forest: 67.99412768742317 \n",
      "\n",
      "              precision    recall  f1-score   support\n",
      "\n",
      "           0       0.68      0.67      0.68     56349\n",
      "           1       0.68      0.69      0.68     56724\n",
      "\n",
      "    accuracy                           0.68    113073\n",
      "   macro avg       0.68      0.68      0.68    113073\n",
      "weighted avg       0.68      0.68      0.68    113073\n",
      "\n"
     ]
    }
   ],
   "source": [
    "m3 = 'Random Forest Classfier'\n",
    "rf = RandomForestClassifier(n_estimators=20, random_state=12,max_depth=5)\n",
    "rf.fit(X_train,y_train)\n",
    "rf_predicted = rf.predict(X_test)\n",
    "rf_conf_matrix = confusion_matrix(y_test, rf_predicted)\n",
    "rf_acc_score = accuracy_score(y_test, rf_predicted)\n",
    "print(\"confussion matrix\")\n",
    "print(rf_conf_matrix)\n",
    "print(\"\\n\")\n",
    "print(\"Accuracy of Random Forest:\",rf_acc_score*100,'\\n')\n",
    "print(classification_report(y_test,rf_predicted))"
   ]
  },
  {
   "cell_type": "markdown",
   "metadata": {
    "id": "OqiyNyAnyCG_"
   },
   "source": [
    "## Extreme Gradient Boost"
   ]
  },
  {
   "cell_type": "code",
   "execution_count": 14,
   "metadata": {
    "colab": {
     "base_uri": "https://localhost:8080/"
    },
    "id": "yruRGK5yyCG_",
    "outputId": "93ebe8ef-1a11-42d5-e4b9-56aff96dbebd"
   },
   "outputs": [
    {
     "name": "stdout",
     "output_type": "stream",
     "text": [
      "confussion matrix\n",
      "[[42912 13437]\n",
      " [11562 45162]]\n",
      "\n",
      "\n",
      "Accuracy of Extreme Gradient Boost: 77.8912737788862 \n",
      "\n",
      "              precision    recall  f1-score   support\n",
      "\n",
      "           0       0.79      0.76      0.77     56349\n",
      "           1       0.77      0.80      0.78     56724\n",
      "\n",
      "    accuracy                           0.78    113073\n",
      "   macro avg       0.78      0.78      0.78    113073\n",
      "weighted avg       0.78      0.78      0.78    113073\n",
      "\n"
     ]
    }
   ],
   "source": [
    "m4 = 'Extreme Gradient Boost'\n",
    "xgb = XGBClassifier()\n",
    "xgb.fit(X_train, y_train)\n",
    "xgb_predicted = xgb.predict(X_test)\n",
    "xgb_conf_matrix = confusion_matrix(y_test, xgb_predicted)\n",
    "xgb_acc_score = accuracy_score(y_test, xgb_predicted)\n",
    "print(\"confussion matrix\")\n",
    "print(xgb_conf_matrix)\n",
    "print(\"\\n\")\n",
    "print(\"Accuracy of Extreme Gradient Boost:\",xgb_acc_score*100,'\\n')\n",
    "print(classification_report(y_test,xgb_predicted))"
   ]
  },
  {
   "cell_type": "markdown",
   "metadata": {
    "id": "vyafK0cjyCG_"
   },
   "source": [
    "## KNN"
   ]
  },
  {
   "cell_type": "code",
   "execution_count": 15,
   "metadata": {
    "colab": {
     "base_uri": "https://localhost:8080/"
    },
    "id": "9PDnitBcyCHA",
    "outputId": "368592b7-2a5e-4666-d4ca-bd3d88329637"
   },
   "outputs": [
    {
     "name": "stdout",
     "output_type": "stream",
     "text": [
      "confussion matrix\n",
      "[[36461 19888]\n",
      " [ 3246 53478]]\n",
      "\n",
      "\n",
      "Accuracy of K-NeighborsClassifier: 79.54065073005934 \n",
      "\n",
      "              precision    recall  f1-score   support\n",
      "\n",
      "           0       0.92      0.65      0.76     56349\n",
      "           1       0.73      0.94      0.82     56724\n",
      "\n",
      "    accuracy                           0.80    113073\n",
      "   macro avg       0.82      0.79      0.79    113073\n",
      "weighted avg       0.82      0.80      0.79    113073\n",
      "\n"
     ]
    }
   ],
   "source": [
    "m5 = 'K-NeighborsClassifier'\n",
    "knn = KNeighborsClassifier(n_neighbors=10)\n",
    "knn.fit(X_train, y_train)\n",
    "knn_predicted = knn.predict(X_test)\n",
    "knn_conf_matrix = confusion_matrix(y_test, knn_predicted)\n",
    "knn_acc_score = accuracy_score(y_test, knn_predicted)\n",
    "print(\"confussion matrix\")\n",
    "print(knn_conf_matrix)\n",
    "print(\"\\n\")\n",
    "print(\"Accuracy of K-NeighborsClassifier:\",knn_acc_score*100,'\\n')\n",
    "print(classification_report(y_test,knn_predicted))"
   ]
  },
  {
   "cell_type": "markdown",
   "metadata": {
    "id": "dtuftPURyzp7"
   },
   "source": [
    "## Lightgbm"
   ]
  },
  {
   "cell_type": "code",
   "execution_count": 16,
   "metadata": {},
   "outputs": [
    {
     "name": "stdout",
     "output_type": "stream",
     "text": [
      "confusion matrix\n",
      "[[40869 15480]\n",
      " [14829 41895]]\n",
      "\n",
      "\n",
      "Accuracy of LightGBM: 73.19519248626993 \n",
      "\n",
      "              precision    recall  f1-score   support\n",
      "\n",
      "           0       0.73      0.73      0.73     56349\n",
      "           1       0.73      0.74      0.73     56724\n",
      "\n",
      "    accuracy                           0.73    113073\n",
      "   macro avg       0.73      0.73      0.73    113073\n",
      "weighted avg       0.73      0.73      0.73    113073\n",
      "\n"
     ]
    }
   ],
   "source": [
    "# Create model\n",
    "model = \"LightGBM\"\n",
    "lgbm = lgb.LGBMClassifier()\n",
    "\n",
    "# Fit model to training data\n",
    "lgbm.fit(X_train, y_train)\n",
    "\n",
    "# Predict labels for test data\n",
    "lgbm_predicted = lgbm.predict(X_test)\n",
    "\n",
    "# Evaluate model performance\n",
    "lgbm_conf_matrix = confusion_matrix(y_test, lgbm_predicted)\n",
    "lgbm_acc_score = accuracy_score(y_test, lgbm_predicted)\n",
    "print(\"confusion matrix\")\n",
    "print(lgbm_conf_matrix)\n",
    "print(\"\\n\")\n",
    "print(\"Accuracy of LightGBM:\",lgbm_acc_score*100,'\\n')\n",
    "print(classification_report(y_test,lgbm_predicted))"
   ]
  }
 ],
 "metadata": {
  "colab": {
   "provenance": [],
   "toc_visible": true
  },
  "kernelspec": {
   "display_name": "Python 3 (ipykernel)",
   "language": "python",
   "name": "python3"
  },
  "language_info": {
   "codemirror_mode": {
    "name": "ipython",
    "version": 3
   },
   "file_extension": ".py",
   "mimetype": "text/x-python",
   "name": "python",
   "nbconvert_exporter": "python",
   "pygments_lexer": "ipython3",
   "version": "3.8.8"
  }
 },
 "nbformat": 4,
 "nbformat_minor": 1
}
