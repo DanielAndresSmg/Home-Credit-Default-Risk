{
 "cells": [
  {
   "cell_type": "markdown",
   "metadata": {
    "id": "GzVvnKekQwEp"
   },
   "source": [
    "# Feature Importance"
   ]
  },
  {
   "cell_type": "code",
   "execution_count": 1,
   "metadata": {
    "id": "zeox492AshCw"
   },
   "outputs": [],
   "source": [
    "# numpy and pandas for data manipulation\n",
    "import numpy as np\n",
    "import pandas as pd \n",
    "\n",
    "# sklearn preprocessing for dealing with categorical variables\n",
    "from sklearn.preprocessing import LabelEncoder\n",
    "\n",
    "# File system manangement\n",
    "import os\n",
    "\n",
    "# Suppress warnings \n",
    "import warnings\n",
    "warnings.filterwarnings('ignore')\n",
    "\n",
    "# matplotlib and seaborn for plotting\n",
    "import matplotlib.pyplot as plt\n",
    "import seaborn as sns\n",
    "import gc\n",
    "\n",
    "# Modeling \n",
    "from sklearn.model_selection import train_test_split\n",
    "import lightgbm as lgb\n",
    "from sklearn.svm import SVC\n",
    "from xgboost import XGBClassifier\n",
    "from sklearn.naive_bayes import GaussianNB\n",
    "from sklearn.tree import DecisionTreeClassifier\n",
    "from sklearn.neighbors import KNeighborsClassifier\n",
    "from sklearn.ensemble import RandomForestClassifier\n",
    "from sklearn.linear_model import LogisticRegression\n",
    "from sklearn.model_selection import KFold, StratifiedKFold\n",
    "from sklearn.metrics import confusion_matrix,accuracy_score,roc_curve,classification_report\n"
   ]
  },
  {
   "cell_type": "code",
   "execution_count": 2,
   "metadata": {
    "colab": {
     "base_uri": "https://localhost:8080/"
    },
    "id": "tVpRsi6hsjRV",
    "outputId": "b11d5363-9e7f-49fa-dd61-0cd04a08a59c"
   },
   "outputs": [],
   "source": [
    "# from google.colab import drive\n",
    "# drive.mount('/content/drive')"
   ]
  },
  {
   "cell_type": "code",
   "execution_count": 3,
   "metadata": {
    "id": "FZbPh1sdso05"
   },
   "outputs": [],
   "source": [
    "dataset = pd.read_csv('chapter2.csv')"
   ]
  },
  {
   "cell_type": "code",
   "execution_count": 4,
   "metadata": {
    "colab": {
     "base_uri": "https://localhost:8080/"
    },
    "id": "RRVfvwR5vh_t",
    "outputId": "c1a7b95c-c05a-46ca-ded7-3e1eec9de462"
   },
   "outputs": [
    {
     "name": "stdout",
     "output_type": "stream",
     "text": [
      "X_train data shape:  (246005, 178)\n",
      "y_train data shape:  (246005,)\n",
      "X_test data shape:  (61502, 178)\n",
      "y_test data shape:  (61502,)\n"
     ]
    }
   ],
   "source": [
    "# Memisahkan data menjadi fitur (X) dan label (y)\n",
    "X = dataset.drop(columns=['TARGET'], axis = 1)\n",
    "y = dataset['TARGET']\n",
    "\n",
    "# Membagi data menjadi data latih dan data uji\n",
    "X_train, X_test, y_train, y_test = train_test_split(X, y, test_size=0.2, random_state=42)\n",
    "\n",
    "# Mencetak bentuk data X_train, X_test, y_train, dan y_test\n",
    "print('X_train data shape: ', X_train.shape)\n",
    "print('y_train data shape: ', y_train.shape)\n",
    "print('X_test data shape: ', X_test.shape)\n",
    "print('y_test data shape: ', y_test.shape)"
   ]
  },
  {
   "cell_type": "code",
   "execution_count": 5,
   "metadata": {
    "id": "DsIxxpH3U4IK"
   },
   "outputs": [],
   "source": [
    "# create a dataframe temporery of all zeroes to hold feature importance calculations\n",
    "feature_imp = np.zeros(X_train.shape[1])"
   ]
  },
  {
   "cell_type": "code",
   "execution_count": 6,
   "metadata": {
    "id": "1FBph-J_mRoU"
   },
   "outputs": [],
   "source": [
    "model = lgb.LGBMClassifier(objective='binary', boosting_type='goss', n_estimators=10000, class_weight='balanced')"
   ]
  },
  {
   "cell_type": "code",
   "execution_count": 7,
   "metadata": {
    "id": "2DaIFGb0nMO9"
   },
   "outputs": [],
   "source": [
    "# Mengimpor modul re\n",
    "import re\n",
    "\n",
    "# Menghapus karakter khusus dari nama fitur\n",
    "X_train = X_train.rename(columns=lambda x: re.sub('[^A-Za-z0-9_]+', '', x))\n",
    "X_test = X_test.rename(columns=lambda x: re.sub('[^A-Za-z0-9_]+', '', x))\n",
    "\n",
    "# Menghindari duplikasi nama fitur\n",
    "new_names = {col: f'{col}_{i}' if col in X_train.columns[:i] else col for i, col in enumerate(X_train.columns)}\n",
    "X_train = X_train.rename(columns=new_names)\n",
    "X_test = X_test.rename(columns=new_names)"
   ]
  },
  {
   "cell_type": "code",
   "execution_count": 8,
   "metadata": {
    "colab": {
     "base_uri": "https://localhost:8080/"
    },
    "id": "yzm57hF-mVdV",
    "outputId": "ec914b7f-6260-4837-ba3d-ff60fe36c3db"
   },
   "outputs": [
    {
     "name": "stdout",
     "output_type": "stream",
     "text": [
      "[200]\tvalid_0's auc: 0.772702\tvalid_0's binary_logloss: 0.509231\n",
      "[200]\tvalid_0's auc: 0.774067\tvalid_0's binary_logloss: 0.51332\n"
     ]
    }
   ],
   "source": [
    "# Split data dan modeling\n",
    "for i in range(2):\n",
    "    train_x1, train_x2, train_y1, train_y2 = train_test_split(X_train, y_train, test_size = 0.25, random_state = i)\n",
    "    model.fit(train_x1, train_y1, early_stopping_rounds=100, eval_set = [(train_x2, train_y2)], eval_metric = 'auc', verbose = 200)\n",
    "    feature_imp += model.feature_importances_"
   ]
  },
  {
   "cell_type": "code",
   "execution_count": 9,
   "metadata": {
    "colab": {
     "base_uri": "https://localhost:8080/",
     "height": 363
    },
    "id": "QARvg3odmczr",
    "outputId": "e7f7cfd5-1abf-445d-9327-c4dbf5940279"
   },
   "outputs": [
    {
     "data": {
      "text/html": [
       "<div>\n",
       "<style scoped>\n",
       "    .dataframe tbody tr th:only-of-type {\n",
       "        vertical-align: middle;\n",
       "    }\n",
       "\n",
       "    .dataframe tbody tr th {\n",
       "        vertical-align: top;\n",
       "    }\n",
       "\n",
       "    .dataframe thead th {\n",
       "        text-align: right;\n",
       "    }\n",
       "</style>\n",
       "<table border=\"1\" class=\"dataframe\">\n",
       "  <thead>\n",
       "    <tr style=\"text-align: right;\">\n",
       "      <th></th>\n",
       "      <th>feature</th>\n",
       "      <th>importance</th>\n",
       "    </tr>\n",
       "  </thead>\n",
       "  <tbody>\n",
       "    <tr>\n",
       "      <th>98</th>\n",
       "      <td>ANNUITY_CREDIT</td>\n",
       "      <td>197.0</td>\n",
       "    </tr>\n",
       "    <tr>\n",
       "      <th>14</th>\n",
       "      <td>EXT_SOURCE_1</td>\n",
       "      <td>182.0</td>\n",
       "    </tr>\n",
       "    <tr>\n",
       "      <th>15</th>\n",
       "      <td>EXT_SOURCE_2</td>\n",
       "      <td>181.0</td>\n",
       "    </tr>\n",
       "    <tr>\n",
       "      <th>16</th>\n",
       "      <td>EXT_SOURCE_3</td>\n",
       "      <td>172.5</td>\n",
       "    </tr>\n",
       "    <tr>\n",
       "      <th>167</th>\n",
       "      <td>cash_CNT_INSTALMENT_mean_mean</td>\n",
       "      <td>121.0</td>\n",
       "    </tr>\n",
       "    <tr>\n",
       "      <th>11</th>\n",
       "      <td>DAYS_BIRTH</td>\n",
       "      <td>114.0</td>\n",
       "    </tr>\n",
       "    <tr>\n",
       "      <th>162</th>\n",
       "      <td>install_DAYS_DIFF_min_mean</td>\n",
       "      <td>110.5</td>\n",
       "    </tr>\n",
       "    <tr>\n",
       "      <th>159</th>\n",
       "      <td>install_AMT_INSTALMENT_mean_mean</td>\n",
       "      <td>107.0</td>\n",
       "    </tr>\n",
       "    <tr>\n",
       "      <th>2</th>\n",
       "      <td>DAYS_EMPLOYED</td>\n",
       "      <td>95.0</td>\n",
       "    </tr>\n",
       "    <tr>\n",
       "      <th>158</th>\n",
       "      <td>install_DAYS_INSTALMENT_mean_mean</td>\n",
       "      <td>94.5</td>\n",
       "    </tr>\n",
       "  </tbody>\n",
       "</table>\n",
       "</div>"
      ],
      "text/plain": [
       "                               feature  importance\n",
       "98                      ANNUITY_CREDIT       197.0\n",
       "14                        EXT_SOURCE_1       182.0\n",
       "15                        EXT_SOURCE_2       181.0\n",
       "16                        EXT_SOURCE_3       172.5\n",
       "167      cash_CNT_INSTALMENT_mean_mean       121.0\n",
       "11                          DAYS_BIRTH       114.0\n",
       "162         install_DAYS_DIFF_min_mean       110.5\n",
       "159   install_AMT_INSTALMENT_mean_mean       107.0\n",
       "2                        DAYS_EMPLOYED        95.0\n",
       "158  install_DAYS_INSTALMENT_mean_mean        94.5"
      ]
     },
     "execution_count": 9,
     "metadata": {},
     "output_type": "execute_result"
    }
   ],
   "source": [
    "# Tampilkan beberapa Feature Importanca\n",
    "feature_imp = feature_imp / 2\n",
    "feature_imp = pd.DataFrame({'feature': list(X_train.columns), 'importance': feature_imp}).sort_values('importance', ascending = False)\n",
    "feature_imp.head(10)"
   ]
  },
  {
   "cell_type": "code",
   "execution_count": 10,
   "metadata": {
    "colab": {
     "base_uri": "https://localhost:8080/",
     "height": 380
    },
    "id": "cex6WiZDnat8",
    "outputId": "cf0249e3-2172-44e0-aae9-8870bdd022be"
   },
   "outputs": [
    {
     "name": "stdout",
     "output_type": "stream",
     "text": [
      "count of features with 0 importance:  49\n"
     ]
    },
    {
     "data": {
      "text/html": [
       "<div>\n",
       "<style scoped>\n",
       "    .dataframe tbody tr th:only-of-type {\n",
       "        vertical-align: middle;\n",
       "    }\n",
       "\n",
       "    .dataframe tbody tr th {\n",
       "        vertical-align: top;\n",
       "    }\n",
       "\n",
       "    .dataframe thead th {\n",
       "        text-align: right;\n",
       "    }\n",
       "</style>\n",
       "<table border=\"1\" class=\"dataframe\">\n",
       "  <thead>\n",
       "    <tr style=\"text-align: right;\">\n",
       "      <th></th>\n",
       "      <th>feature</th>\n",
       "      <th>importance</th>\n",
       "    </tr>\n",
       "  </thead>\n",
       "  <tbody>\n",
       "    <tr>\n",
       "      <th>86</th>\n",
       "      <td>OCCUPATION_TYPE_Waitersbarmenstaff</td>\n",
       "      <td>0.0</td>\n",
       "    </tr>\n",
       "    <tr>\n",
       "      <th>85</th>\n",
       "      <td>OCCUPATION_TYPE_Securitystaff</td>\n",
       "      <td>0.0</td>\n",
       "    </tr>\n",
       "    <tr>\n",
       "      <th>82</th>\n",
       "      <td>OCCUPATION_TYPE_Realtyagents</td>\n",
       "      <td>0.0</td>\n",
       "    </tr>\n",
       "    <tr>\n",
       "      <th>76</th>\n",
       "      <td>OCCUPATION_TYPE_ITstaff</td>\n",
       "      <td>0.0</td>\n",
       "    </tr>\n",
       "    <tr>\n",
       "      <th>74</th>\n",
       "      <td>OCCUPATION_TYPE_HRstaff</td>\n",
       "      <td>0.0</td>\n",
       "    </tr>\n",
       "    <tr>\n",
       "      <th>71</th>\n",
       "      <td>OCCUPATION_TYPE_Cookingstaff</td>\n",
       "      <td>0.0</td>\n",
       "    </tr>\n",
       "    <tr>\n",
       "      <th>70</th>\n",
       "      <td>OCCUPATION_TYPE_Cleaningstaff</td>\n",
       "      <td>0.0</td>\n",
       "    </tr>\n",
       "    <tr>\n",
       "      <th>63</th>\n",
       "      <td>NAME_HOUSING_TYPE_Coopapartment</td>\n",
       "      <td>0.0</td>\n",
       "    </tr>\n",
       "    <tr>\n",
       "      <th>122</th>\n",
       "      <td>CREDIT_TYPE_Cashloannonearmarked</td>\n",
       "      <td>0.0</td>\n",
       "    </tr>\n",
       "    <tr>\n",
       "      <th>177</th>\n",
       "      <td>NAME_CONTRACT_STATUS_XNA_mean</td>\n",
       "      <td>0.0</td>\n",
       "    </tr>\n",
       "  </tbody>\n",
       "</table>\n",
       "</div>"
      ],
      "text/plain": [
       "                                feature  importance\n",
       "86   OCCUPATION_TYPE_Waitersbarmenstaff         0.0\n",
       "85        OCCUPATION_TYPE_Securitystaff         0.0\n",
       "82         OCCUPATION_TYPE_Realtyagents         0.0\n",
       "76              OCCUPATION_TYPE_ITstaff         0.0\n",
       "74              OCCUPATION_TYPE_HRstaff         0.0\n",
       "71         OCCUPATION_TYPE_Cookingstaff         0.0\n",
       "70        OCCUPATION_TYPE_Cleaningstaff         0.0\n",
       "63      NAME_HOUSING_TYPE_Coopapartment         0.0\n",
       "122    CREDIT_TYPE_Cashloannonearmarked         0.0\n",
       "177       NAME_CONTRACT_STATUS_XNA_mean         0.0"
      ]
     },
     "execution_count": 10,
     "metadata": {},
     "output_type": "execute_result"
    }
   ],
   "source": [
    "# Cara dan pindahkan data yang memiliki nilai 0.0 pada importance\n",
    "zero_imp = list(feature_imp[feature_imp['importance'] == 0.0]['feature'])\n",
    "print('count of features with 0 importance: ', len(zero_imp))\n",
    "feature_imp.tail(10)"
   ]
  },
  {
   "cell_type": "code",
   "execution_count": 11,
   "metadata": {
    "colab": {
     "base_uri": "https://localhost:8080/"
    },
    "id": "jUqnEvqlqQ1S",
    "outputId": "38193841-8fe9-4460-c7ed-ba431521330f"
   },
   "outputs": [
    {
     "data": {
      "text/plain": [
       "['FLAG_DOCUMENT_6',\n",
       " 'NAME_CONTRACT_STATUS_Amortizeddebt_mean',\n",
       " 'NAME_CONTRACT_STATUS_Refused_mean',\n",
       " 'FLAG_DOCUMENT_2',\n",
       " 'NAME_TYPE_SUITE_Other_B',\n",
       " 'NAME_TYPE_SUITE_Other_A',\n",
       " 'NAME_TYPE_SUITE_Groupofpeople',\n",
       " 'FLAG_DOCUMENT_4',\n",
       " 'FLAG_DOCUMENT_21',\n",
       " 'FLAG_DOCUMENT_20',\n",
       " 'NAME_CONTRACT_STATUS_Demand_mean_y',\n",
       " 'FLAG_DOCUMENT_19',\n",
       " 'FLAG_DOCUMENT_17',\n",
       " 'FLAG_DOCUMENT_5',\n",
       " 'FLAG_DOCUMENT_14',\n",
       " 'NAME_CONTRACT_STATUS_Approved_mean_x',\n",
       " 'FLAG_DOCUMENT_12',\n",
       " 'NAME_CONTRACT_STATUS_Canceled_mean',\n",
       " 'FLAG_DOCUMENT_10',\n",
       " 'FLAG_DOCUMENT_9',\n",
       " 'FLAG_DOCUMENT_7',\n",
       " 'NAME_INCOME_TYPE_Businessman',\n",
       " 'CREDIT_TYPE_Anothertypeofloan',\n",
       " 'NAME_INCOME_TYPE_Student',\n",
       " 'NAME_INCOME_TYPE_Unemployed',\n",
       " 'CREDIT_CURRENCY_currency4',\n",
       " 'CREDIT_TYPE_Interbankcredit',\n",
       " 'CREDIT_TYPE_Loanforbusinessdevelopment',\n",
       " 'CREDIT_TYPE_Loanforpurchaseofsharesmarginlending',\n",
       " 'CREDIT_TYPE_Loanforthepurchaseofequipment',\n",
       " 'CREDIT_CURRENCY_currency2',\n",
       " 'CREDIT_TYPE_Mobileoperatorloan',\n",
       " 'CREDIT_ACTIVE_Baddebt',\n",
       " 'CREDIT_TYPE_Realestateloan',\n",
       " 'bureau_DAYS_ENDDATE_FACT_mean_outlier',\n",
       " 'bureau_DAYS_CREDIT_ENDDATE_max_outlier',\n",
       " 'bureau_CREDIT_DAY_OVERDUE_max_flag',\n",
       " 'SK_ID_CURR',\n",
       " 'WEEKDAY_APPR_PROCESS_START_FRIDAY',\n",
       " 'OCCUPATION_TYPE_Waitersbarmenstaff',\n",
       " 'OCCUPATION_TYPE_Securitystaff',\n",
       " 'OCCUPATION_TYPE_Realtyagents',\n",
       " 'OCCUPATION_TYPE_ITstaff',\n",
       " 'OCCUPATION_TYPE_HRstaff',\n",
       " 'OCCUPATION_TYPE_Cookingstaff',\n",
       " 'OCCUPATION_TYPE_Cleaningstaff',\n",
       " 'NAME_HOUSING_TYPE_Coopapartment',\n",
       " 'CREDIT_TYPE_Cashloannonearmarked',\n",
       " 'NAME_CONTRACT_STATUS_XNA_mean']"
      ]
     },
     "execution_count": 11,
     "metadata": {},
     "output_type": "execute_result"
    }
   ],
   "source": [
    "zero_imp"
   ]
  },
  {
   "cell_type": "markdown",
   "metadata": {
    "id": "DZG4x5rqm3eP"
   },
   "source": [
    "zero_imp adalah berapa feature yang akan dihapus guna untuk mempercepat proses pemodelan"
   ]
  },
  {
   "cell_type": "code",
   "execution_count": 12,
   "metadata": {
    "id": "FMiSNKh-9gVM"
   },
   "outputs": [],
   "source": [
    "# Menghapus karakter khusus dari nama fitur\n",
    "dataset1 = dataset.rename(columns=lambda x: re.sub('[^A-Za-z0-9_]+', '', x))\n",
    "\n",
    "# Menghindari duplikasi nama fitur\n",
    "new_names = {col: f'{col}_{i}' if col in dataset1.columns[:i] else col for i, col in enumerate(dataset1.columns)}\n",
    "dataset1 = dataset1.rename(columns=new_names)"
   ]
  },
  {
   "cell_type": "code",
   "execution_count": 13,
   "metadata": {
    "id": "9My3LCZ0nB41"
   },
   "outputs": [],
   "source": [
    "zero_imp.remove(\"SK_ID_CURR\")"
   ]
  },
  {
   "cell_type": "code",
   "execution_count": 14,
   "metadata": {
    "id": "1kRHxMNtoBMI"
   },
   "outputs": [],
   "source": [
    "# Drop zero_imp\n",
    "dataset1 = dataset1.drop(columns = zero_imp)\n",
    "x_train = X_train.drop(columns = zero_imp)\n",
    "x_test = X_test.drop(columns = zero_imp)"
   ]
  },
  {
   "cell_type": "code",
   "execution_count": 15,
   "metadata": {
    "colab": {
     "base_uri": "https://localhost:8080/"
    },
    "id": "D1nZHINjoEwb",
    "outputId": "9b3fe9a4-c49f-48e8-e525-a3f0585def51"
   },
   "outputs": [
    {
     "name": "stdout",
     "output_type": "stream",
     "text": [
      "x_train data shape:  (307507, 131)\n"
     ]
    }
   ],
   "source": [
    "print('x_train data shape: ', dataset1.shape)"
   ]
  },
  {
   "cell_type": "markdown",
   "metadata": {
    "id": "X5VAgeUIqBQF"
   },
   "source": [
    "# Handle Missing Value"
   ]
  },
  {
   "cell_type": "code",
   "execution_count": 16,
   "metadata": {
    "id": "YUYOn-EwaaLf"
   },
   "outputs": [],
   "source": [
    "dataset= dataset1"
   ]
  },
  {
   "cell_type": "code",
   "execution_count": 17,
   "metadata": {
    "id": "k1uLjouPoP11"
   },
   "outputs": [],
   "source": [
    "# Menghapus karakter khusus dari nama fitur\n",
    "dataset = dataset.rename(columns=lambda x: re.sub('[^A-Za-z0-9_]+', '', x))"
   ]
  },
  {
   "cell_type": "code",
   "execution_count": 18,
   "metadata": {
    "colab": {
     "base_uri": "https://localhost:8080/",
     "height": 300
    },
    "id": "hjioN5C1ZqEo",
    "outputId": "00e61261-fd73-4478-b649-b82617ed0e0f"
   },
   "outputs": [
    {
     "data": {
      "text/html": [
       "<div>\n",
       "<style scoped>\n",
       "    .dataframe tbody tr th:only-of-type {\n",
       "        vertical-align: middle;\n",
       "    }\n",
       "\n",
       "    .dataframe tbody tr th {\n",
       "        vertical-align: top;\n",
       "    }\n",
       "\n",
       "    .dataframe thead th {\n",
       "        text-align: right;\n",
       "    }\n",
       "</style>\n",
       "<table border=\"1\" class=\"dataframe\">\n",
       "  <thead>\n",
       "    <tr style=\"text-align: right;\">\n",
       "      <th></th>\n",
       "      <th>Unnamed0</th>\n",
       "      <th>SK_ID_CURR</th>\n",
       "      <th>DAYS_EMPLOYED</th>\n",
       "      <th>CODE_GENDER</th>\n",
       "      <th>FLAG_OWN_CAR</th>\n",
       "      <th>FLAG_OWN_REALTY</th>\n",
       "      <th>CNT_CHILDREN</th>\n",
       "      <th>AMT_INCOME_TOTAL</th>\n",
       "      <th>AMT_CREDIT</th>\n",
       "      <th>AMT_ANNUITY</th>\n",
       "      <th>...</th>\n",
       "      <th>install_AMT_DIFF_max_mean</th>\n",
       "      <th>install_AMT_DIFF_min_mean</th>\n",
       "      <th>cash_MONTHS_BALANCE_count_mean</th>\n",
       "      <th>cash_CNT_INSTALMENT_mean_mean</th>\n",
       "      <th>cash_SK_DPD_mean_mean</th>\n",
       "      <th>cash_SK_DPD_DEF_mean_mean</th>\n",
       "      <th>NAME_CONTRACT_STATUS_Approved_mean_y</th>\n",
       "      <th>NAME_CONTRACT_STATUS_Completed_mean_y</th>\n",
       "      <th>NAME_CONTRACT_STATUS_Returnedtothestore_mean</th>\n",
       "      <th>NAME_CONTRACT_STATUS_Signed_mean</th>\n",
       "    </tr>\n",
       "  </thead>\n",
       "  <tbody>\n",
       "    <tr>\n",
       "      <th>0</th>\n",
       "      <td>0</td>\n",
       "      <td>100002</td>\n",
       "      <td>-637</td>\n",
       "      <td>1</td>\n",
       "      <td>0</td>\n",
       "      <td>1</td>\n",
       "      <td>0</td>\n",
       "      <td>202500.0</td>\n",
       "      <td>406597.5</td>\n",
       "      <td>24700.5</td>\n",
       "      <td>...</td>\n",
       "      <td>0.000000</td>\n",
       "      <td>0.0</td>\n",
       "      <td>19.000000</td>\n",
       "      <td>24.000000</td>\n",
       "      <td>0.0</td>\n",
       "      <td>0.0</td>\n",
       "      <td>0.0</td>\n",
       "      <td>0.000000</td>\n",
       "      <td>0.000000</td>\n",
       "      <td>0.00000</td>\n",
       "    </tr>\n",
       "    <tr>\n",
       "      <th>1</th>\n",
       "      <td>1</td>\n",
       "      <td>100003</td>\n",
       "      <td>-1188</td>\n",
       "      <td>0</td>\n",
       "      <td>0</td>\n",
       "      <td>0</td>\n",
       "      <td>0</td>\n",
       "      <td>270000.0</td>\n",
       "      <td>1293502.5</td>\n",
       "      <td>35698.5</td>\n",
       "      <td>...</td>\n",
       "      <td>0.000000</td>\n",
       "      <td>0.0</td>\n",
       "      <td>9.714286</td>\n",
       "      <td>10.107143</td>\n",
       "      <td>0.0</td>\n",
       "      <td>0.0</td>\n",
       "      <td>0.0</td>\n",
       "      <td>0.571429</td>\n",
       "      <td>0.000000</td>\n",
       "      <td>0.00000</td>\n",
       "    </tr>\n",
       "    <tr>\n",
       "      <th>2</th>\n",
       "      <td>2</td>\n",
       "      <td>100004</td>\n",
       "      <td>-225</td>\n",
       "      <td>1</td>\n",
       "      <td>1</td>\n",
       "      <td>1</td>\n",
       "      <td>0</td>\n",
       "      <td>67500.0</td>\n",
       "      <td>135000.0</td>\n",
       "      <td>6750.0</td>\n",
       "      <td>...</td>\n",
       "      <td>0.000000</td>\n",
       "      <td>0.0</td>\n",
       "      <td>4.000000</td>\n",
       "      <td>3.750000</td>\n",
       "      <td>0.0</td>\n",
       "      <td>0.0</td>\n",
       "      <td>0.0</td>\n",
       "      <td>1.000000</td>\n",
       "      <td>0.000000</td>\n",
       "      <td>0.00000</td>\n",
       "    </tr>\n",
       "    <tr>\n",
       "      <th>3</th>\n",
       "      <td>3</td>\n",
       "      <td>100006</td>\n",
       "      <td>-3039</td>\n",
       "      <td>0</td>\n",
       "      <td>0</td>\n",
       "      <td>1</td>\n",
       "      <td>0</td>\n",
       "      <td>135000.0</td>\n",
       "      <td>312682.5</td>\n",
       "      <td>29686.5</td>\n",
       "      <td>...</td>\n",
       "      <td>0.000000</td>\n",
       "      <td>0.0</td>\n",
       "      <td>8.238095</td>\n",
       "      <td>11.904762</td>\n",
       "      <td>0.0</td>\n",
       "      <td>0.0</td>\n",
       "      <td>0.0</td>\n",
       "      <td>0.523810</td>\n",
       "      <td>0.380952</td>\n",
       "      <td>0.00000</td>\n",
       "    </tr>\n",
       "    <tr>\n",
       "      <th>4</th>\n",
       "      <td>4</td>\n",
       "      <td>100007</td>\n",
       "      <td>-3038</td>\n",
       "      <td>1</td>\n",
       "      <td>0</td>\n",
       "      <td>1</td>\n",
       "      <td>0</td>\n",
       "      <td>121500.0</td>\n",
       "      <td>513000.0</td>\n",
       "      <td>21865.5</td>\n",
       "      <td>...</td>\n",
       "      <td>5225.751136</td>\n",
       "      <td>0.0</td>\n",
       "      <td>13.727273</td>\n",
       "      <td>15.333333</td>\n",
       "      <td>0.0</td>\n",
       "      <td>0.0</td>\n",
       "      <td>0.0</td>\n",
       "      <td>0.666667</td>\n",
       "      <td>0.000000</td>\n",
       "      <td>0.19697</td>\n",
       "    </tr>\n",
       "  </tbody>\n",
       "</table>\n",
       "<p>5 rows × 131 columns</p>\n",
       "</div>"
      ],
      "text/plain": [
       "   Unnamed0  SK_ID_CURR  DAYS_EMPLOYED  CODE_GENDER  FLAG_OWN_CAR  \\\n",
       "0         0      100002           -637            1             0   \n",
       "1         1      100003          -1188            0             0   \n",
       "2         2      100004           -225            1             1   \n",
       "3         3      100006          -3039            0             0   \n",
       "4         4      100007          -3038            1             0   \n",
       "\n",
       "   FLAG_OWN_REALTY  CNT_CHILDREN  AMT_INCOME_TOTAL  AMT_CREDIT  AMT_ANNUITY  \\\n",
       "0                1             0          202500.0    406597.5      24700.5   \n",
       "1                0             0          270000.0   1293502.5      35698.5   \n",
       "2                1             0           67500.0    135000.0       6750.0   \n",
       "3                1             0          135000.0    312682.5      29686.5   \n",
       "4                1             0          121500.0    513000.0      21865.5   \n",
       "\n",
       "   ...  install_AMT_DIFF_max_mean  install_AMT_DIFF_min_mean  \\\n",
       "0  ...                   0.000000                        0.0   \n",
       "1  ...                   0.000000                        0.0   \n",
       "2  ...                   0.000000                        0.0   \n",
       "3  ...                   0.000000                        0.0   \n",
       "4  ...                5225.751136                        0.0   \n",
       "\n",
       "   cash_MONTHS_BALANCE_count_mean  cash_CNT_INSTALMENT_mean_mean  \\\n",
       "0                       19.000000                      24.000000   \n",
       "1                        9.714286                      10.107143   \n",
       "2                        4.000000                       3.750000   \n",
       "3                        8.238095                      11.904762   \n",
       "4                       13.727273                      15.333333   \n",
       "\n",
       "   cash_SK_DPD_mean_mean  cash_SK_DPD_DEF_mean_mean  \\\n",
       "0                    0.0                        0.0   \n",
       "1                    0.0                        0.0   \n",
       "2                    0.0                        0.0   \n",
       "3                    0.0                        0.0   \n",
       "4                    0.0                        0.0   \n",
       "\n",
       "   NAME_CONTRACT_STATUS_Approved_mean_y  \\\n",
       "0                                   0.0   \n",
       "1                                   0.0   \n",
       "2                                   0.0   \n",
       "3                                   0.0   \n",
       "4                                   0.0   \n",
       "\n",
       "   NAME_CONTRACT_STATUS_Completed_mean_y  \\\n",
       "0                               0.000000   \n",
       "1                               0.571429   \n",
       "2                               1.000000   \n",
       "3                               0.523810   \n",
       "4                               0.666667   \n",
       "\n",
       "   NAME_CONTRACT_STATUS_Returnedtothestore_mean  \\\n",
       "0                                      0.000000   \n",
       "1                                      0.000000   \n",
       "2                                      0.000000   \n",
       "3                                      0.380952   \n",
       "4                                      0.000000   \n",
       "\n",
       "   NAME_CONTRACT_STATUS_Signed_mean  \n",
       "0                           0.00000  \n",
       "1                           0.00000  \n",
       "2                           0.00000  \n",
       "3                           0.00000  \n",
       "4                           0.19697  \n",
       "\n",
       "[5 rows x 131 columns]"
      ]
     },
     "execution_count": 18,
     "metadata": {},
     "output_type": "execute_result"
    }
   ],
   "source": [
    "dataset.head()"
   ]
  },
  {
   "cell_type": "code",
   "execution_count": 19,
   "metadata": {
    "id": "qHRCQVWvZvS-"
   },
   "outputs": [],
   "source": [
    "dataset.drop(dataset.columns[[0]], axis = 1, inplace = True)"
   ]
  },
  {
   "cell_type": "code",
   "execution_count": 20,
   "metadata": {
    "colab": {
     "base_uri": "https://localhost:8080/",
     "height": 300
    },
    "id": "d2orr8NsZyA2",
    "outputId": "1f03df93-a940-4eed-ddad-46ebc0c620ff"
   },
   "outputs": [
    {
     "data": {
      "text/html": [
       "<div>\n",
       "<style scoped>\n",
       "    .dataframe tbody tr th:only-of-type {\n",
       "        vertical-align: middle;\n",
       "    }\n",
       "\n",
       "    .dataframe tbody tr th {\n",
       "        vertical-align: top;\n",
       "    }\n",
       "\n",
       "    .dataframe thead th {\n",
       "        text-align: right;\n",
       "    }\n",
       "</style>\n",
       "<table border=\"1\" class=\"dataframe\">\n",
       "  <thead>\n",
       "    <tr style=\"text-align: right;\">\n",
       "      <th></th>\n",
       "      <th>SK_ID_CURR</th>\n",
       "      <th>DAYS_EMPLOYED</th>\n",
       "      <th>CODE_GENDER</th>\n",
       "      <th>FLAG_OWN_CAR</th>\n",
       "      <th>FLAG_OWN_REALTY</th>\n",
       "      <th>CNT_CHILDREN</th>\n",
       "      <th>AMT_INCOME_TOTAL</th>\n",
       "      <th>AMT_CREDIT</th>\n",
       "      <th>AMT_ANNUITY</th>\n",
       "      <th>REGION_POPULATION_RELATIVE</th>\n",
       "      <th>...</th>\n",
       "      <th>install_AMT_DIFF_max_mean</th>\n",
       "      <th>install_AMT_DIFF_min_mean</th>\n",
       "      <th>cash_MONTHS_BALANCE_count_mean</th>\n",
       "      <th>cash_CNT_INSTALMENT_mean_mean</th>\n",
       "      <th>cash_SK_DPD_mean_mean</th>\n",
       "      <th>cash_SK_DPD_DEF_mean_mean</th>\n",
       "      <th>NAME_CONTRACT_STATUS_Approved_mean_y</th>\n",
       "      <th>NAME_CONTRACT_STATUS_Completed_mean_y</th>\n",
       "      <th>NAME_CONTRACT_STATUS_Returnedtothestore_mean</th>\n",
       "      <th>NAME_CONTRACT_STATUS_Signed_mean</th>\n",
       "    </tr>\n",
       "  </thead>\n",
       "  <tbody>\n",
       "    <tr>\n",
       "      <th>0</th>\n",
       "      <td>100002</td>\n",
       "      <td>-637</td>\n",
       "      <td>1</td>\n",
       "      <td>0</td>\n",
       "      <td>1</td>\n",
       "      <td>0</td>\n",
       "      <td>202500.0</td>\n",
       "      <td>406597.5</td>\n",
       "      <td>24700.5</td>\n",
       "      <td>0.018801</td>\n",
       "      <td>...</td>\n",
       "      <td>0.000000</td>\n",
       "      <td>0.0</td>\n",
       "      <td>19.000000</td>\n",
       "      <td>24.000000</td>\n",
       "      <td>0.0</td>\n",
       "      <td>0.0</td>\n",
       "      <td>0.0</td>\n",
       "      <td>0.000000</td>\n",
       "      <td>0.000000</td>\n",
       "      <td>0.00000</td>\n",
       "    </tr>\n",
       "    <tr>\n",
       "      <th>1</th>\n",
       "      <td>100003</td>\n",
       "      <td>-1188</td>\n",
       "      <td>0</td>\n",
       "      <td>0</td>\n",
       "      <td>0</td>\n",
       "      <td>0</td>\n",
       "      <td>270000.0</td>\n",
       "      <td>1293502.5</td>\n",
       "      <td>35698.5</td>\n",
       "      <td>0.003541</td>\n",
       "      <td>...</td>\n",
       "      <td>0.000000</td>\n",
       "      <td>0.0</td>\n",
       "      <td>9.714286</td>\n",
       "      <td>10.107143</td>\n",
       "      <td>0.0</td>\n",
       "      <td>0.0</td>\n",
       "      <td>0.0</td>\n",
       "      <td>0.571429</td>\n",
       "      <td>0.000000</td>\n",
       "      <td>0.00000</td>\n",
       "    </tr>\n",
       "    <tr>\n",
       "      <th>2</th>\n",
       "      <td>100004</td>\n",
       "      <td>-225</td>\n",
       "      <td>1</td>\n",
       "      <td>1</td>\n",
       "      <td>1</td>\n",
       "      <td>0</td>\n",
       "      <td>67500.0</td>\n",
       "      <td>135000.0</td>\n",
       "      <td>6750.0</td>\n",
       "      <td>0.010032</td>\n",
       "      <td>...</td>\n",
       "      <td>0.000000</td>\n",
       "      <td>0.0</td>\n",
       "      <td>4.000000</td>\n",
       "      <td>3.750000</td>\n",
       "      <td>0.0</td>\n",
       "      <td>0.0</td>\n",
       "      <td>0.0</td>\n",
       "      <td>1.000000</td>\n",
       "      <td>0.000000</td>\n",
       "      <td>0.00000</td>\n",
       "    </tr>\n",
       "    <tr>\n",
       "      <th>3</th>\n",
       "      <td>100006</td>\n",
       "      <td>-3039</td>\n",
       "      <td>0</td>\n",
       "      <td>0</td>\n",
       "      <td>1</td>\n",
       "      <td>0</td>\n",
       "      <td>135000.0</td>\n",
       "      <td>312682.5</td>\n",
       "      <td>29686.5</td>\n",
       "      <td>0.008019</td>\n",
       "      <td>...</td>\n",
       "      <td>0.000000</td>\n",
       "      <td>0.0</td>\n",
       "      <td>8.238095</td>\n",
       "      <td>11.904762</td>\n",
       "      <td>0.0</td>\n",
       "      <td>0.0</td>\n",
       "      <td>0.0</td>\n",
       "      <td>0.523810</td>\n",
       "      <td>0.380952</td>\n",
       "      <td>0.00000</td>\n",
       "    </tr>\n",
       "    <tr>\n",
       "      <th>4</th>\n",
       "      <td>100007</td>\n",
       "      <td>-3038</td>\n",
       "      <td>1</td>\n",
       "      <td>0</td>\n",
       "      <td>1</td>\n",
       "      <td>0</td>\n",
       "      <td>121500.0</td>\n",
       "      <td>513000.0</td>\n",
       "      <td>21865.5</td>\n",
       "      <td>0.028663</td>\n",
       "      <td>...</td>\n",
       "      <td>5225.751136</td>\n",
       "      <td>0.0</td>\n",
       "      <td>13.727273</td>\n",
       "      <td>15.333333</td>\n",
       "      <td>0.0</td>\n",
       "      <td>0.0</td>\n",
       "      <td>0.0</td>\n",
       "      <td>0.666667</td>\n",
       "      <td>0.000000</td>\n",
       "      <td>0.19697</td>\n",
       "    </tr>\n",
       "  </tbody>\n",
       "</table>\n",
       "<p>5 rows × 130 columns</p>\n",
       "</div>"
      ],
      "text/plain": [
       "   SK_ID_CURR  DAYS_EMPLOYED  CODE_GENDER  FLAG_OWN_CAR  FLAG_OWN_REALTY  \\\n",
       "0      100002           -637            1             0                1   \n",
       "1      100003          -1188            0             0                0   \n",
       "2      100004           -225            1             1                1   \n",
       "3      100006          -3039            0             0                1   \n",
       "4      100007          -3038            1             0                1   \n",
       "\n",
       "   CNT_CHILDREN  AMT_INCOME_TOTAL  AMT_CREDIT  AMT_ANNUITY  \\\n",
       "0             0          202500.0    406597.5      24700.5   \n",
       "1             0          270000.0   1293502.5      35698.5   \n",
       "2             0           67500.0    135000.0       6750.0   \n",
       "3             0          135000.0    312682.5      29686.5   \n",
       "4             0          121500.0    513000.0      21865.5   \n",
       "\n",
       "   REGION_POPULATION_RELATIVE  ...  install_AMT_DIFF_max_mean  \\\n",
       "0                    0.018801  ...                   0.000000   \n",
       "1                    0.003541  ...                   0.000000   \n",
       "2                    0.010032  ...                   0.000000   \n",
       "3                    0.008019  ...                   0.000000   \n",
       "4                    0.028663  ...                5225.751136   \n",
       "\n",
       "   install_AMT_DIFF_min_mean  cash_MONTHS_BALANCE_count_mean  \\\n",
       "0                        0.0                       19.000000   \n",
       "1                        0.0                        9.714286   \n",
       "2                        0.0                        4.000000   \n",
       "3                        0.0                        8.238095   \n",
       "4                        0.0                       13.727273   \n",
       "\n",
       "   cash_CNT_INSTALMENT_mean_mean  cash_SK_DPD_mean_mean  \\\n",
       "0                      24.000000                    0.0   \n",
       "1                      10.107143                    0.0   \n",
       "2                       3.750000                    0.0   \n",
       "3                      11.904762                    0.0   \n",
       "4                      15.333333                    0.0   \n",
       "\n",
       "   cash_SK_DPD_DEF_mean_mean  NAME_CONTRACT_STATUS_Approved_mean_y  \\\n",
       "0                        0.0                                   0.0   \n",
       "1                        0.0                                   0.0   \n",
       "2                        0.0                                   0.0   \n",
       "3                        0.0                                   0.0   \n",
       "4                        0.0                                   0.0   \n",
       "\n",
       "   NAME_CONTRACT_STATUS_Completed_mean_y  \\\n",
       "0                               0.000000   \n",
       "1                               0.571429   \n",
       "2                               1.000000   \n",
       "3                               0.523810   \n",
       "4                               0.666667   \n",
       "\n",
       "   NAME_CONTRACT_STATUS_Returnedtothestore_mean  \\\n",
       "0                                      0.000000   \n",
       "1                                      0.000000   \n",
       "2                                      0.000000   \n",
       "3                                      0.380952   \n",
       "4                                      0.000000   \n",
       "\n",
       "   NAME_CONTRACT_STATUS_Signed_mean  \n",
       "0                           0.00000  \n",
       "1                           0.00000  \n",
       "2                           0.00000  \n",
       "3                           0.00000  \n",
       "4                           0.19697  \n",
       "\n",
       "[5 rows x 130 columns]"
      ]
     },
     "execution_count": 20,
     "metadata": {},
     "output_type": "execute_result"
    }
   ],
   "source": [
    "dataset.head()"
   ]
  },
  {
   "cell_type": "code",
   "execution_count": 21,
   "metadata": {
    "id": "sOeoGfk9yCG3"
   },
   "outputs": [],
   "source": [
    "# Function to calculate missing values by column\n",
    "def missing_values_table(df):\n",
    "        # Total missing values\n",
    "        mis_val = df.isnull().sum()\n",
    "        \n",
    "        # Percentage of missing values\n",
    "        mis_val_percent = 100 * df.isnull().sum() / len(df)\n",
    "        \n",
    "        # Make a table with the results\n",
    "        mis_val_table = pd.concat([mis_val, mis_val_percent], axis=1)\n",
    "        \n",
    "        # Rename the columns\n",
    "        mis_val_table_ren_columns = mis_val_table.rename(\n",
    "        columns = {0 : 'Missing Values', 1 : '% of Total Values'})\n",
    "        \n",
    "        # Sort the table by percentage of missing descending\n",
    "        mis_val_table_ren_columns = mis_val_table_ren_columns[\n",
    "            mis_val_table_ren_columns.iloc[:,1] != 0].sort_values(\n",
    "        '% of Total Values', ascending=False).round(1)\n",
    "        \n",
    "        # Print some summary information\n",
    "        print (\"Your selected dataframe has \" + str(df.shape[1]) + \" columns.\\n\"      \n",
    "            \"There are \" + str(mis_val_table_ren_columns.shape[0]) +\n",
    "              \" columns that have missing values.\")\n",
    "        \n",
    "        # Return the dataframe with missing information\n",
    "        return mis_val_table_ren_columns"
   ]
  },
  {
   "cell_type": "code",
   "execution_count": 22,
   "metadata": {
    "colab": {
     "base_uri": "https://localhost:8080/",
     "height": 711
    },
    "id": "MUfWL839yCG3",
    "outputId": "befa6158-45c5-4e0f-e847-e5f56e72d585"
   },
   "outputs": [
    {
     "name": "stdout",
     "output_type": "stream",
     "text": [
      "Your selected dataframe has 130 columns.\n",
      "There are 69 columns that have missing values.\n"
     ]
    },
    {
     "data": {
      "text/html": [
       "<div>\n",
       "<style scoped>\n",
       "    .dataframe tbody tr th:only-of-type {\n",
       "        vertical-align: middle;\n",
       "    }\n",
       "\n",
       "    .dataframe tbody tr th {\n",
       "        vertical-align: top;\n",
       "    }\n",
       "\n",
       "    .dataframe thead th {\n",
       "        text-align: right;\n",
       "    }\n",
       "</style>\n",
       "<table border=\"1\" class=\"dataframe\">\n",
       "  <thead>\n",
       "    <tr style=\"text-align: right;\">\n",
       "      <th></th>\n",
       "      <th>Missing Values</th>\n",
       "      <th>% of Total Values</th>\n",
       "    </tr>\n",
       "  </thead>\n",
       "  <tbody>\n",
       "    <tr>\n",
       "      <th>credit_SK_DPD_DEF_mean_mean</th>\n",
       "      <td>220602</td>\n",
       "      <td>71.7</td>\n",
       "    </tr>\n",
       "    <tr>\n",
       "      <th>credit_SK_DPD_mean_mean</th>\n",
       "      <td>220602</td>\n",
       "      <td>71.7</td>\n",
       "    </tr>\n",
       "    <tr>\n",
       "      <th>credit_CNT_INSTALMENT_MATURE_CUM_mean_mean</th>\n",
       "      <td>220602</td>\n",
       "      <td>71.7</td>\n",
       "    </tr>\n",
       "    <tr>\n",
       "      <th>credit_CNT_DRAWINGS_CURRENT_mean_mean</th>\n",
       "      <td>220602</td>\n",
       "      <td>71.7</td>\n",
       "    </tr>\n",
       "    <tr>\n",
       "      <th>credit_AMT_INST_MIN_REGULARITY_mean_mean</th>\n",
       "      <td>220602</td>\n",
       "      <td>71.7</td>\n",
       "    </tr>\n",
       "    <tr>\n",
       "      <th>credit_AMT_DRAWINGS_CURRENT_mean_mean</th>\n",
       "      <td>220602</td>\n",
       "      <td>71.7</td>\n",
       "    </tr>\n",
       "    <tr>\n",
       "      <th>credit_AMT_CREDIT_LIMIT_ACTUAL_mean_mean</th>\n",
       "      <td>220602</td>\n",
       "      <td>71.7</td>\n",
       "    </tr>\n",
       "    <tr>\n",
       "      <th>credit_MONTHS_BALANCE_count_mean</th>\n",
       "      <td>220602</td>\n",
       "      <td>71.7</td>\n",
       "    </tr>\n",
       "    <tr>\n",
       "      <th>NAME_CONTRACT_STATUS_Completed_mean_x</th>\n",
       "      <td>220602</td>\n",
       "      <td>71.7</td>\n",
       "    </tr>\n",
       "    <tr>\n",
       "      <th>bureau_bal_STATUS_3_mean</th>\n",
       "      <td>215276</td>\n",
       "      <td>70.0</td>\n",
       "    </tr>\n",
       "    <tr>\n",
       "      <th>bureau_bal_MONTHS_BALANCE_count_mean</th>\n",
       "      <td>215276</td>\n",
       "      <td>70.0</td>\n",
       "    </tr>\n",
       "    <tr>\n",
       "      <th>bureau_bal_STATUS_0_mean</th>\n",
       "      <td>215276</td>\n",
       "      <td>70.0</td>\n",
       "    </tr>\n",
       "    <tr>\n",
       "      <th>bureau_bal_STATUS_2_mean</th>\n",
       "      <td>215276</td>\n",
       "      <td>70.0</td>\n",
       "    </tr>\n",
       "    <tr>\n",
       "      <th>bureau_bal_STATUS_X_mean</th>\n",
       "      <td>215276</td>\n",
       "      <td>70.0</td>\n",
       "    </tr>\n",
       "    <tr>\n",
       "      <th>bureau_bal_STATUS_4_mean</th>\n",
       "      <td>215276</td>\n",
       "      <td>70.0</td>\n",
       "    </tr>\n",
       "    <tr>\n",
       "      <th>bureau_bal_STATUS_5_mean</th>\n",
       "      <td>215276</td>\n",
       "      <td>70.0</td>\n",
       "    </tr>\n",
       "    <tr>\n",
       "      <th>bureau_bal_STATUS_C_mean</th>\n",
       "      <td>215276</td>\n",
       "      <td>70.0</td>\n",
       "    </tr>\n",
       "    <tr>\n",
       "      <th>bureau_bal_MONTHS_BALANCE_mean_mean</th>\n",
       "      <td>215276</td>\n",
       "      <td>70.0</td>\n",
       "    </tr>\n",
       "    <tr>\n",
       "      <th>bureau_bal_STATUS_1_mean</th>\n",
       "      <td>215276</td>\n",
       "      <td>70.0</td>\n",
       "    </tr>\n",
       "    <tr>\n",
       "      <th>EXT_SOURCE_1</th>\n",
       "      <td>173376</td>\n",
       "      <td>56.4</td>\n",
       "    </tr>\n",
       "  </tbody>\n",
       "</table>\n",
       "</div>"
      ],
      "text/plain": [
       "                                            Missing Values  % of Total Values\n",
       "credit_SK_DPD_DEF_mean_mean                         220602               71.7\n",
       "credit_SK_DPD_mean_mean                             220602               71.7\n",
       "credit_CNT_INSTALMENT_MATURE_CUM_mean_mean          220602               71.7\n",
       "credit_CNT_DRAWINGS_CURRENT_mean_mean               220602               71.7\n",
       "credit_AMT_INST_MIN_REGULARITY_mean_mean            220602               71.7\n",
       "credit_AMT_DRAWINGS_CURRENT_mean_mean               220602               71.7\n",
       "credit_AMT_CREDIT_LIMIT_ACTUAL_mean_mean            220602               71.7\n",
       "credit_MONTHS_BALANCE_count_mean                    220602               71.7\n",
       "NAME_CONTRACT_STATUS_Completed_mean_x               220602               71.7\n",
       "bureau_bal_STATUS_3_mean                            215276               70.0\n",
       "bureau_bal_MONTHS_BALANCE_count_mean                215276               70.0\n",
       "bureau_bal_STATUS_0_mean                            215276               70.0\n",
       "bureau_bal_STATUS_2_mean                            215276               70.0\n",
       "bureau_bal_STATUS_X_mean                            215276               70.0\n",
       "bureau_bal_STATUS_4_mean                            215276               70.0\n",
       "bureau_bal_STATUS_5_mean                            215276               70.0\n",
       "bureau_bal_STATUS_C_mean                            215276               70.0\n",
       "bureau_bal_MONTHS_BALANCE_mean_mean                 215276               70.0\n",
       "bureau_bal_STATUS_1_mean                            215276               70.0\n",
       "EXT_SOURCE_1                                        173376               56.4"
      ]
     },
     "execution_count": 22,
     "metadata": {},
     "output_type": "execute_result"
    }
   ],
   "source": [
    "missing_values = missing_values_table(dataset)\n",
    "missing_values.head(20)"
   ]
  },
  {
   "cell_type": "code",
   "execution_count": 23,
   "metadata": {
    "id": "EduxkkbdyCG3"
   },
   "outputs": [],
   "source": [
    "def fillna_df(df):\n",
    "    for column in df.select_dtypes(\"object\").columns:\n",
    "        df[column] = df[column].fillna(df[column].mode())\n",
    "        \n",
    "    for column in df.select_dtypes(\"number\").columns:\n",
    "        df[column] = df[column].fillna(df[column].median())\n",
    "    return df"
   ]
  },
  {
   "cell_type": "code",
   "execution_count": 24,
   "metadata": {
    "colab": {
     "base_uri": "https://localhost:8080/",
     "height": 84
    },
    "id": "KEoTVvfAyCG4",
    "outputId": "e1c12630-2d0e-4fb8-fea1-ba95851d55ea"
   },
   "outputs": [
    {
     "name": "stdout",
     "output_type": "stream",
     "text": [
      "Your selected dataframe has 130 columns.\n",
      "There are 0 columns that have missing values.\n"
     ]
    },
    {
     "data": {
      "text/html": [
       "<div>\n",
       "<style scoped>\n",
       "    .dataframe tbody tr th:only-of-type {\n",
       "        vertical-align: middle;\n",
       "    }\n",
       "\n",
       "    .dataframe tbody tr th {\n",
       "        vertical-align: top;\n",
       "    }\n",
       "\n",
       "    .dataframe thead th {\n",
       "        text-align: right;\n",
       "    }\n",
       "</style>\n",
       "<table border=\"1\" class=\"dataframe\">\n",
       "  <thead>\n",
       "    <tr style=\"text-align: right;\">\n",
       "      <th></th>\n",
       "      <th>Missing Values</th>\n",
       "      <th>% of Total Values</th>\n",
       "    </tr>\n",
       "  </thead>\n",
       "  <tbody>\n",
       "  </tbody>\n",
       "</table>\n",
       "</div>"
      ],
      "text/plain": [
       "Empty DataFrame\n",
       "Columns: [Missing Values, % of Total Values]\n",
       "Index: []"
      ]
     },
     "execution_count": 24,
     "metadata": {},
     "output_type": "execute_result"
    }
   ],
   "source": [
    "fillna_df(dataset);\n",
    "missing_values = missing_values_table(dataset)\n",
    "missing_values.head(20)"
   ]
  },
  {
   "cell_type": "code",
   "execution_count": 25,
   "metadata": {},
   "outputs": [],
   "source": [
    "dataset.to_csv('dataclear.csv', index= False)"
   ]
  }
 ],
 "metadata": {
  "colab": {
   "provenance": [],
   "toc_visible": true
  },
  "kernelspec": {
   "display_name": "Python 3 (ipykernel)",
   "language": "python",
   "name": "python3"
  },
  "language_info": {
   "codemirror_mode": {
    "name": "ipython",
    "version": 3
   },
   "file_extension": ".py",
   "mimetype": "text/x-python",
   "name": "python",
   "nbconvert_exporter": "python",
   "pygments_lexer": "ipython3",
   "version": "3.8.8"
  }
 },
 "nbformat": 4,
 "nbformat_minor": 1
}
